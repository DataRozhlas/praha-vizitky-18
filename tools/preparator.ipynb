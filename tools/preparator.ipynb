{
 "cells": [
  {
   "cell_type": "code",
   "execution_count": 83,
   "metadata": {},
   "outputs": [],
   "source": [
    "import pandas as pd\n",
    "import json\n",
    "import os\n",
    "import numpy as np"
   ]
  },
  {
   "cell_type": "code",
   "execution_count": 84,
   "metadata": {},
   "outputs": [],
   "source": [
    "serk = pd.read_excel('./vizitky_pha.xlsx')"
   ]
  },
  {
   "cell_type": "code",
   "execution_count": 85,
   "metadata": {},
   "outputs": [],
   "source": [
    "serk.poznamka.fillna('', inplace=True)\n",
    "serk.zvuk.fillna('', inplace=True)"
   ]
  },
  {
   "cell_type": "code",
   "execution_count": 86,
   "metadata": {},
   "outputs": [],
   "source": [
    "strany = pd.read_csv('kvros.csv', sep=';', encoding='windows-1250')"
   ]
  },
  {
   "cell_type": "code",
   "execution_count": 87,
   "metadata": {},
   "outputs": [],
   "source": [
    "strany = strany[strany.NAZEVZAST.str.contains('Praha hl.m.')][['OSTRANA', 'ZKRATKAO30']].set_index('OSTRANA').to_dict()['ZKRATKAO30']"
   ]
  },
  {
   "cell_type": "code",
   "execution_count": 88,
   "metadata": {},
   "outputs": [],
   "source": [
    "out = {}\n",
    "for kand in serk.values:\n",
    "    out[str(kand[3]) + '_' + str(kand[5])] = {\n",
    "        'jmeno': kand[6] + ' ' + kand[7],\n",
    "        'povolani': kand[11],\n",
    "        'partaj': strany[kand[4]],\n",
    "        'file': kand[24],\n",
    "        'afile': kand[25],\n",
    "        'pozn': kand[26]\n",
    "    }"
   ]
  },
  {
   "cell_type": "code",
   "execution_count": 89,
   "metadata": {},
   "outputs": [],
   "source": [
    "with open('../js/data.js', 'w', encoding='utf-8') as f:\n",
    "    f.write('var data = ' + json.dumps(out) + ';')"
   ]
  }
 ],
 "metadata": {
  "kernelspec": {
   "display_name": "Python 3",
   "language": "python",
   "name": "python3"
  },
  "language_info": {
   "codemirror_mode": {
    "name": "ipython",
    "version": 3
   },
   "file_extension": ".py",
   "mimetype": "text/x-python",
   "name": "python",
   "nbconvert_exporter": "python",
   "pygments_lexer": "ipython3",
   "version": "3.6.5"
  }
 },
 "nbformat": 4,
 "nbformat_minor": 2
}
